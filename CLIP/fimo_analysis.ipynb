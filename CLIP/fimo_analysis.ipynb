{
 "cells": [
  {
   "cell_type": "markdown",
   "metadata": {},
   "source": [
    "# FIMO Analysis\n",
    "The primary purpose of this notebook is to analyze the FIMO output(s) of the primary workflow from RWPE1 (using TSS or 5' UTR) and display the statistics. "
   ]
  },
  {
   "cell_type": "code",
   "execution_count": 2,
   "metadata": {},
   "outputs": [],
   "source": [
    "import pandas as pd\n",
    "import matplotlib.pyplot as plt"
   ]
  },
  {
   "cell_type": "markdown",
   "metadata": {},
   "source": [
    "## Input files"
   ]
  },
  {
   "cell_type": "code",
   "execution_count": 3,
   "metadata": {},
   "outputs": [
    {
     "data": {
      "text/html": [
       "<div>\n",
       "<style scoped>\n",
       "    .dataframe tbody tr th:only-of-type {\n",
       "        vertical-align: middle;\n",
       "    }\n",
       "\n",
       "    .dataframe tbody tr th {\n",
       "        vertical-align: top;\n",
       "    }\n",
       "\n",
       "    .dataframe thead th {\n",
       "        text-align: right;\n",
       "    }\n",
       "</style>\n",
       "<table border=\"1\" class=\"dataframe\">\n",
       "  <thead>\n",
       "    <tr style=\"text-align: right;\">\n",
       "      <th></th>\n",
       "      <th>motif_id</th>\n",
       "      <th>motif_alt_id</th>\n",
       "      <th>sequence_name</th>\n",
       "      <th>start</th>\n",
       "      <th>stop</th>\n",
       "      <th>strand</th>\n",
       "      <th>score</th>\n",
       "      <th>p-value</th>\n",
       "      <th>q-value</th>\n",
       "      <th>matched_sequence</th>\n",
       "    </tr>\n",
       "  </thead>\n",
       "  <tbody>\n",
       "    <tr>\n",
       "      <th>0</th>\n",
       "      <td>MOTIF</td>\n",
       "      <td>NaN</td>\n",
       "      <td>ENSG00000178104::1:148808466-148808566</td>\n",
       "      <td>12</td>\n",
       "      <td>26</td>\n",
       "      <td>+</td>\n",
       "      <td>15.8818</td>\n",
       "      <td>5.400000e-07</td>\n",
       "      <td>0.14</td>\n",
       "      <td>ACTGGGGTGGCCAGG</td>\n",
       "    </tr>\n",
       "    <tr>\n",
       "      <th>1</th>\n",
       "      <td>MOTIF</td>\n",
       "      <td>NaN</td>\n",
       "      <td>ENSG00000275131::1:120701289-120701389</td>\n",
       "      <td>13</td>\n",
       "      <td>27</td>\n",
       "      <td>-</td>\n",
       "      <td>15.8818</td>\n",
       "      <td>5.400000e-07</td>\n",
       "      <td>0.14</td>\n",
       "      <td>ACTGGGGTGGCCAGG</td>\n",
       "    </tr>\n",
       "    <tr>\n",
       "      <th>2</th>\n",
       "      <td>MOTIF</td>\n",
       "      <td>NaN</td>\n",
       "      <td>ENSG00000125967::20:33670765-33670865</td>\n",
       "      <td>27</td>\n",
       "      <td>41</td>\n",
       "      <td>+</td>\n",
       "      <td>15.5182</td>\n",
       "      <td>8.430000e-07</td>\n",
       "      <td>0.14</td>\n",
       "      <td>TCTGGGGTGGCAGGG</td>\n",
       "    </tr>\n",
       "    <tr>\n",
       "      <th>3</th>\n",
       "      <td>MOTIF</td>\n",
       "      <td>NaN</td>\n",
       "      <td>ENSG00000115648::2:237546405-237546505</td>\n",
       "      <td>59</td>\n",
       "      <td>73</td>\n",
       "      <td>+</td>\n",
       "      <td>15.1727</td>\n",
       "      <td>1.260000e-06</td>\n",
       "      <td>0.14</td>\n",
       "      <td>CTGGGGGTGGCTGTG</td>\n",
       "    </tr>\n",
       "    <tr>\n",
       "      <th>4</th>\n",
       "      <td>MOTIF</td>\n",
       "      <td>NaN</td>\n",
       "      <td>ENSG00000141506::17:8885086-8885186</td>\n",
       "      <td>70</td>\n",
       "      <td>84</td>\n",
       "      <td>-</td>\n",
       "      <td>15.1727</td>\n",
       "      <td>1.260000e-06</td>\n",
       "      <td>0.14</td>\n",
       "      <td>CCTGGGGAGGCAGGG</td>\n",
       "    </tr>\n",
       "  </tbody>\n",
       "</table>\n",
       "</div>"
      ],
      "text/plain": [
       "  motif_id  motif_alt_id                           sequence_name  start  stop  \\\n",
       "0    MOTIF           NaN  ENSG00000178104::1:148808466-148808566     12    26   \n",
       "1    MOTIF           NaN  ENSG00000275131::1:120701289-120701389     13    27   \n",
       "2    MOTIF           NaN   ENSG00000125967::20:33670765-33670865     27    41   \n",
       "3    MOTIF           NaN  ENSG00000115648::2:237546405-237546505     59    73   \n",
       "4    MOTIF           NaN     ENSG00000141506::17:8885086-8885186     70    84   \n",
       "\n",
       "  strand    score       p-value  q-value matched_sequence  \n",
       "0      +  15.8818  5.400000e-07     0.14  ACTGGGGTGGCCAGG  \n",
       "1      -  15.8818  5.400000e-07     0.14  ACTGGGGTGGCCAGG  \n",
       "2      +  15.5182  8.430000e-07     0.14  TCTGGGGTGGCAGGG  \n",
       "3      +  15.1727  1.260000e-06     0.14  CTGGGGGTGGCTGTG  \n",
       "4      -  15.1727  1.260000e-06     0.14  CCTGGGGAGGCAGGG  "
      ]
     },
     "execution_count": 3,
     "metadata": {},
     "output_type": "execute_result"
    }
   ],
   "source": [
    "# Read in the RNA-seq targets\n",
    "rna = pd.read_csv(\"../RWPE1/rna/condition_ERG_results.csv\")\n",
    "# Read in the FIMO\n",
    "fimo = pd.read_csv(\"fimo.tsv\", sep = \"\\t\", comment = '#')\n",
    "fimo.head()"
   ]
  },
  {
   "cell_type": "code",
   "execution_count": 4,
   "metadata": {},
   "outputs": [
    {
     "data": {
      "text/html": [
       "<div>\n",
       "<style scoped>\n",
       "    .dataframe tbody tr th:only-of-type {\n",
       "        vertical-align: middle;\n",
       "    }\n",
       "\n",
       "    .dataframe tbody tr th {\n",
       "        vertical-align: top;\n",
       "    }\n",
       "\n",
       "    .dataframe thead th {\n",
       "        text-align: right;\n",
       "    }\n",
       "</style>\n",
       "<table border=\"1\" class=\"dataframe\">\n",
       "  <thead>\n",
       "    <tr style=\"text-align: right;\">\n",
       "      <th></th>\n",
       "      <th>Unnamed: 0</th>\n",
       "      <th>baseMean</th>\n",
       "      <th>log2FoldChange</th>\n",
       "      <th>lfcSE</th>\n",
       "      <th>stat</th>\n",
       "      <th>pvalue</th>\n",
       "      <th>padj</th>\n",
       "    </tr>\n",
       "  </thead>\n",
       "  <tbody>\n",
       "    <tr>\n",
       "      <th>0</th>\n",
       "      <td>ENSG00000117318</td>\n",
       "      <td>2962.745670</td>\n",
       "      <td>-2.862370</td>\n",
       "      <td>0.074568</td>\n",
       "      <td>-38.386289</td>\n",
       "      <td>0.0</td>\n",
       "      <td>0.0</td>\n",
       "    </tr>\n",
       "    <tr>\n",
       "      <th>1</th>\n",
       "      <td>ENSG00000126709</td>\n",
       "      <td>1864.580502</td>\n",
       "      <td>-4.528673</td>\n",
       "      <td>0.094237</td>\n",
       "      <td>-48.056214</td>\n",
       "      <td>0.0</td>\n",
       "      <td>0.0</td>\n",
       "    </tr>\n",
       "    <tr>\n",
       "      <th>2</th>\n",
       "      <td>ENSG00000137962</td>\n",
       "      <td>8903.503601</td>\n",
       "      <td>2.534852</td>\n",
       "      <td>0.061708</td>\n",
       "      <td>41.077844</td>\n",
       "      <td>0.0</td>\n",
       "      <td>0.0</td>\n",
       "    </tr>\n",
       "    <tr>\n",
       "      <th>3</th>\n",
       "      <td>ENSG00000117525</td>\n",
       "      <td>6750.090378</td>\n",
       "      <td>2.489323</td>\n",
       "      <td>0.052461</td>\n",
       "      <td>47.450965</td>\n",
       "      <td>0.0</td>\n",
       "      <td>0.0</td>\n",
       "    </tr>\n",
       "    <tr>\n",
       "      <th>4</th>\n",
       "      <td>ENSG00000081277</td>\n",
       "      <td>48205.311285</td>\n",
       "      <td>-3.370403</td>\n",
       "      <td>0.044858</td>\n",
       "      <td>-75.134318</td>\n",
       "      <td>0.0</td>\n",
       "      <td>0.0</td>\n",
       "    </tr>\n",
       "  </tbody>\n",
       "</table>\n",
       "</div>"
      ],
      "text/plain": [
       "        Unnamed: 0      baseMean  log2FoldChange     lfcSE       stat  pvalue  \\\n",
       "0  ENSG00000117318   2962.745670       -2.862370  0.074568 -38.386289     0.0   \n",
       "1  ENSG00000126709   1864.580502       -4.528673  0.094237 -48.056214     0.0   \n",
       "2  ENSG00000137962   8903.503601        2.534852  0.061708  41.077844     0.0   \n",
       "3  ENSG00000117525   6750.090378        2.489323  0.052461  47.450965     0.0   \n",
       "4  ENSG00000081277  48205.311285       -3.370403  0.044858 -75.134318     0.0   \n",
       "\n",
       "   padj  \n",
       "0   0.0  \n",
       "1   0.0  \n",
       "2   0.0  \n",
       "3   0.0  \n",
       "4   0.0  "
      ]
     },
     "execution_count": 4,
     "metadata": {},
     "output_type": "execute_result"
    }
   ],
   "source": [
    "rna.head()"
   ]
  },
  {
   "cell_type": "markdown",
   "metadata": {},
   "source": [
    "The RNA-seq files contain the significant targets from the RNA-seq. To cross-reference the FIMO targets, we use the sequence_name column from FIMO. "
   ]
  },
  {
   "cell_type": "code",
   "execution_count": 4,
   "metadata": {},
   "outputs": [
    {
     "data": {
      "text/plain": [
       "['ENSG00000178104',\n",
       " 'ENSG00000275131',\n",
       " 'ENSG00000125967',\n",
       " 'ENSG00000115648',\n",
       " 'ENSG00000141506',\n",
       " 'ENSG00000116017',\n",
       " 'ENSG00000116017',\n",
       " 'ENSG00000162511',\n",
       " 'ENSG00000214655',\n",
       " 'ENSG00000140853']"
      ]
     },
     "execution_count": 4,
     "metadata": {},
     "output_type": "execute_result"
    }
   ],
   "source": [
    "names = list(fimo['sequence_name'].str.split(':', expand = True)[0])\n",
    "names[:10]"
   ]
  },
  {
   "cell_type": "markdown",
   "metadata": {},
   "source": [
    "## Analyzing RNA-seq\n",
    "Now, we check to see which of our RNA targets had the motif. "
   ]
  },
  {
   "cell_type": "code",
   "execution_count": 17,
   "metadata": {},
   "outputs": [
    {
     "data": {
      "text/plain": [
       "181"
      ]
     },
     "execution_count": 17,
     "metadata": {},
     "output_type": "execute_result"
    }
   ],
   "source": [
    "rna_targets = rna[rna['Unnamed: 0'].isin(names)]\n",
    "len(rna_targets)"
   ]
  },
  {
   "cell_type": "markdown",
   "metadata": {},
   "source": [
    "### Scatterplot\n",
    "We can visually depict the signal to see if there's any significant trend. We first sort the data."
   ]
  },
  {
   "cell_type": "code",
   "execution_count": 19,
   "metadata": {},
   "outputs": [
    {
     "name": "stderr",
     "output_type": "stream",
     "text": [
      "C:\\Users\\Tim\\Anaconda3\\envs\\bio\\lib\\site-packages\\ipykernel_launcher.py:1: SettingWithCopyWarning: \n",
      "A value is trying to be set on a copy of a slice from a DataFrame\n",
      "\n",
      "See the caveats in the documentation: https://pandas.pydata.org/pandas-docs/stable/user_guide/indexing.html#returning-a-view-versus-a-copy\n",
      "  \"\"\"Entry point for launching an IPython kernel.\n"
     ]
    },
    {
     "data": {
      "image/png": "[encoded data removed]",
      "text/plain": [
       "<Figure size 432x288 with 1 Axes>"
      ]
     },
     "metadata": {
      "needs_background": "light"
     },
     "output_type": "display_data"
    }
   ],
   "source": [
    "rna_targets.sort_values(by = ['log2FoldChange'], ascending = False, inplace = True, ignore_index = True)\n",
    "plot = plt.scatter(rna_targets.index, rna_targets.log2FoldChange)"
   ]
  },
  {
   "cell_type": "code",
   "execution_count": null,
   "metadata": {},
   "outputs": [],
   "source": []
  }
 ],
 "metadata": {
  "kernelspec": {
   "display_name": "Python 3",
   "language": "python",
   "name": "python3"
  },
  "language_info": {
   "codemirror_mode": {
    "name": "ipython",
    "version": 3
   },
   "file_extension": ".py",
   "mimetype": "text/x-python",
   "name": "python",
   "nbconvert_exporter": "python",
   "pygments_lexer": "ipython3",
   "version": "3.7.7"
  }
 },
 "nbformat": 4,
 "nbformat_minor": 4
}
